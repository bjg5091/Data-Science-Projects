{
 "cells": [
  {
   "cell_type": "code",
   "execution_count": 32,
   "id": "714745c3",
   "metadata": {},
   "outputs": [],
   "source": [
    "import pandas as pd\n",
    "import seaborn as sns\n",
    "import numpy as np\n",
    "import matplotlib.pyplot as plt\n",
    "\n",
    "from sklearn.preprocessing import scale\n",
    "from sklearn.model_selection import train_test_split, cross_validate, GridSearchCV, learning_curve\n",
    "from sklearn.preprocessing import StandardScaler, MinMaxScaler\n",
    "from sklearn.dummy import DummyRegressor\n",
    "from sklearn.linear_model import LinearRegression\n",
    "from sklearn.ensemble import RandomForestRegressor"
   ]
  },
  {
   "cell_type": "code",
   "execution_count": 33,
   "id": "9eb37978",
   "metadata": {},
   "outputs": [],
   "source": [
    "active_team = pd.read_csv('active team top 100')\n",
    "home_team = pd.read_csv('home team top 100')\n",
    "away_team = pd.read_csv('away team top 100')\n",
    "raptor_player = pd.read_csv('raptor player merge top 100')\n",
    "player_team = pd.read_csv('player team merge top 100')\n",
    "summary_home = pd.read_csv('home summary top 100')\n",
    "summary_away = pd.read_csv('away summary top 100')\n",
    "summary = pd.read_csv('summary top 100')\n",
    "corr_summary = pd.read_csv('correlated summary top 100')\n",
    "games_40 = pd.read_csv('40 games plus')\n"
   ]
  },
  {
   "cell_type": "code",
   "execution_count": 34,
   "id": "228042e8",
   "metadata": {},
   "outputs": [
    {
     "data": {
      "text/plain": [
       "(3791.8999999999996, 1625.1)"
      ]
     },
     "execution_count": 34,
     "metadata": {},
     "output_type": "execute_result"
    }
   ],
   "source": [
    "len(corr_summary) * .7, len(corr_summary) * .3"
   ]
  },
  {
   "cell_type": "code",
   "execution_count": 35,
   "id": "ff268fac",
   "metadata": {},
   "outputs": [
    {
     "data": {
      "text/plain": [
       "(3791.8999999999996, 1625.1)"
      ]
     },
     "execution_count": 35,
     "metadata": {},
     "output_type": "execute_result"
    }
   ],
   "source": [
    "len(summary) * .7, len(summary) * .3"
   ]
  },
  {
   "cell_type": "code",
   "execution_count": 36,
   "id": "aa015285",
   "metadata": {},
   "outputs": [
    {
     "data": {
      "text/plain": [
       "Index(['Unnamed: 0', 'Game ID', 'Home ID', 'Short Home', 'Home Points',\n",
       "       'Difference', 'Away ID', 'Short Away', 'Away Points', 'year', 'Total',\n",
       "       'home_pct', 'away_pct', 'Home Team', 'Home Player ID', 'Home Player',\n",
       "       'Home Points.1', 'Home Assists', 'Home Rebounds', 'Home Minutes',\n",
       "       'Home Raptor', 'Home WAR', 'Away Team', 'Away Player ID', 'Away Player',\n",
       "       'Away Points.1', 'Away Assists', 'Away Rebounds', 'Away Minutes',\n",
       "       'Away Raptor', 'Away WAR'],\n",
       "      dtype='object')"
      ]
     },
     "execution_count": 36,
     "metadata": {},
     "output_type": "execute_result"
    }
   ],
   "source": [
    "summary.columns"
   ]
  },
  {
   "cell_type": "code",
   "execution_count": 37,
   "id": "9c3c9ee0",
   "metadata": {},
   "outputs": [],
   "source": [
    "X_train, X_test, y_train, y_test = train_test_split(corr_summary.drop(columns='Difference'), \n",
    "                                                    corr_summary.Difference, test_size=0.3, \n",
    "                                                    random_state=42)"
   ]
  },
  {
   "cell_type": "code",
   "execution_count": 38,
   "id": "c0745922",
   "metadata": {},
   "outputs": [
    {
     "data": {
      "text/plain": [
       "Unnamed: 0         int64\n",
       "Home Points        int64\n",
       "Away Points        int64\n",
       "year               int64\n",
       "Total              int64\n",
       "home_pct         float64\n",
       "away_pct         float64\n",
       "Home Points.1    float64\n",
       "Home Assists     float64\n",
       "Home Rebounds    float64\n",
       "Home Minutes     float64\n",
       "Home Raptor      float64\n",
       "Home WAR         float64\n",
       "Away Points.1    float64\n",
       "Away Assists     float64\n",
       "Away Rebounds    float64\n",
       "Away Minutes     float64\n",
       "Away Raptor      float64\n",
       "Away WAR         float64\n",
       "dtype: object"
      ]
     },
     "execution_count": 38,
     "metadata": {},
     "output_type": "execute_result"
    }
   ],
   "source": [
    "X_test.dtypes"
   ]
  },
  {
   "cell_type": "code",
   "execution_count": 39,
   "id": "1015a527",
   "metadata": {},
   "outputs": [],
   "source": [
    "index_old = ['Unnamed: 0', 'year']\n",
    "index_train = X_train[index_old]\n",
    "index_test = X_test[index_old]\n",
    "X_train.drop(columns=index_train, inplace=True)\n",
    "X_test.drop(columns=index_test, inplace=True)"
   ]
  },
  {
   "cell_type": "code",
   "execution_count": 40,
   "id": "aa16911a",
   "metadata": {},
   "outputs": [
    {
     "data": {
      "text/plain": [
       "Home Points        int64\n",
       "Away Points        int64\n",
       "Total              int64\n",
       "home_pct         float64\n",
       "away_pct         float64\n",
       "Home Points.1    float64\n",
       "Home Assists     float64\n",
       "Home Rebounds    float64\n",
       "Home Minutes     float64\n",
       "Home Raptor      float64\n",
       "Home WAR         float64\n",
       "Away Points.1    float64\n",
       "Away Assists     float64\n",
       "Away Rebounds    float64\n",
       "Away Minutes     float64\n",
       "Away Raptor      float64\n",
       "Away WAR         float64\n",
       "dtype: object"
      ]
     },
     "execution_count": 40,
     "metadata": {},
     "output_type": "execute_result"
    }
   ],
   "source": [
    "X_test.dtypes"
   ]
  },
  {
   "cell_type": "code",
   "execution_count": 41,
   "id": "bcfdc782",
   "metadata": {},
   "outputs": [
    {
     "data": {
      "text/plain": [
       "0.9612239514639936"
      ]
     },
     "execution_count": 41,
     "metadata": {},
     "output_type": "execute_result"
    }
   ],
   "source": [
    "train_mean = y_train.mean()\n",
    "train_mean"
   ]
  },
  {
   "cell_type": "code",
   "execution_count": 42,
   "id": "c1317bcf",
   "metadata": {},
   "outputs": [
    {
     "data": {
      "text/plain": [
       "array([[0.96122395]])"
      ]
     },
     "execution_count": 42,
     "metadata": {},
     "output_type": "execute_result"
    }
   ],
   "source": [
    "dumb_reg = DummyRegressor(strategy='mean')\n",
    "dumb_reg.fit(X_train, y_train)\n",
    "dumb_reg.constant_"
   ]
  },
  {
   "cell_type": "code",
   "execution_count": 43,
   "id": "ab52510a",
   "metadata": {},
   "outputs": [],
   "source": [
    "#Calculate the R^2 as defined above\n",
    "def r_squared(y, ypred):\n",
    "    \"\"\"R-squared score.\n",
    "    \n",
    "    Calculate the R-squared, or coefficient of determination, of the input.\n",
    "    \n",
    "    Arguments:\n",
    "    y -- the observed values\n",
    "    ypred -- the predicted values\n",
    "    \"\"\"\n",
    "    ybar = np.sum(y) / len(y) #yes, we could use np.mean(y)\n",
    "    sum_sq_tot = np.sum((y - ybar)**2) #total sum of squares error\n",
    "    sum_sq_res = np.sum((y - ypred)**2) #residual sum of squares error\n",
    "    R2 = 1.0 - sum_sq_res / sum_sq_tot\n",
    "    return R2"
   ]
  },
  {
   "cell_type": "code",
   "execution_count": 44,
   "id": "1a36607e",
   "metadata": {},
   "outputs": [
    {
     "data": {
      "text/plain": [
       "array([0.96122395, 0.96122395, 0.96122395, 0.96122395, 0.96122395])"
      ]
     },
     "execution_count": 44,
     "metadata": {},
     "output_type": "execute_result"
    }
   ],
   "source": [
    "y_tr_pred_ = train_mean * np.ones(len(y_train))\n",
    "y_tr_pred_[:5]"
   ]
  },
  {
   "cell_type": "code",
   "execution_count": 45,
   "id": "ad006e3b",
   "metadata": {},
   "outputs": [
    {
     "data": {
      "text/plain": [
       "array([0.96122395, 0.96122395, 0.96122395, 0.96122395, 0.96122395])"
      ]
     },
     "execution_count": 45,
     "metadata": {},
     "output_type": "execute_result"
    }
   ],
   "source": [
    "y_tr_pred = dumb_reg.predict(X_train)\n",
    "y_tr_pred[:5]"
   ]
  },
  {
   "cell_type": "code",
   "execution_count": 46,
   "id": "debe49df",
   "metadata": {},
   "outputs": [
    {
     "data": {
      "text/plain": [
       "-0.0005618570740244522"
      ]
     },
     "execution_count": 46,
     "metadata": {},
     "output_type": "execute_result"
    }
   ],
   "source": [
    "y_te_pred = train_mean * np.ones(len(y_test))\n",
    "r_squared(y_test, y_te_pred)"
   ]
  },
  {
   "cell_type": "code",
   "execution_count": 47,
   "id": "66ab29af",
   "metadata": {},
   "outputs": [],
   "source": [
    "#Code task 7#\n",
    "#Calculate the MAE as defined above\n",
    "def mae(y, ypred):\n",
    "    \"\"\"Mean absolute error.\n",
    "    \n",
    "    Calculate the mean absolute error of the arguments\n",
    "\n",
    "    Arguments:\n",
    "    y -- the observed values\n",
    "    ypred -- the predicted values\n",
    "    \"\"\"\n",
    "    abs_error = np.abs(y - ypred)\n",
    "    mae = np.mean(abs_error)\n",
    "    return mae"
   ]
  },
  {
   "cell_type": "code",
   "execution_count": 48,
   "id": "c46dd964",
   "metadata": {},
   "outputs": [
    {
     "data": {
      "text/plain": [
       "12.222871075415673"
      ]
     },
     "execution_count": 48,
     "metadata": {},
     "output_type": "execute_result"
    }
   ],
   "source": [
    "mae(y_train, y_tr_pred)"
   ]
  },
  {
   "cell_type": "code",
   "execution_count": 49,
   "id": "eea92acc",
   "metadata": {},
   "outputs": [
    {
     "data": {
      "text/plain": [
       "11.766757092524736"
      ]
     },
     "execution_count": 49,
     "metadata": {},
     "output_type": "execute_result"
    }
   ],
   "source": [
    "mae(y_test, y_te_pred)"
   ]
  },
  {
   "cell_type": "code",
   "execution_count": 50,
   "id": "0acc5e4f",
   "metadata": {},
   "outputs": [
    {
     "data": {
      "text/plain": [
       "Home Points       113.000000\n",
       "Away Points       112.000000\n",
       "Total             226.000000\n",
       "home_pct            0.500000\n",
       "away_pct            0.509091\n",
       "Home Points.1      12.800000\n",
       "Home Assists        2.900000\n",
       "Home Rebounds       4.700000\n",
       "Home Minutes     1898.000000\n",
       "Home Raptor         2.458975\n",
       "Home WAR            4.416973\n",
       "Away Points.1      12.800000\n",
       "Away Assists        2.900000\n",
       "Away Rebounds       4.700000\n",
       "Away Minutes     1908.000000\n",
       "Away Raptor         2.457199\n",
       "Away WAR            4.416973\n",
       "dtype: float64"
      ]
     },
     "execution_count": 50,
     "metadata": {},
     "output_type": "execute_result"
    }
   ],
   "source": [
    "X_defaults_median = X_train.median()\n",
    "X_defaults_median"
   ]
  },
  {
   "cell_type": "code",
   "execution_count": 52,
   "id": "acd9a43a",
   "metadata": {},
   "outputs": [],
   "source": [
    "X_tr = X_train.fillna(X_defaults_median)\n",
    "X_te = X_test.fillna(X_defaults_median)\n",
    "\n",
    "#Call the StandardScaler`s fit method on `X_tr` to fit the scaler\n",
    "#then use it's `transform()` method to apply the scaling to both the train and test split\n",
    "#data (`X_tr` and `X_te`), naming the results `X_tr_scaled` and `X_te_scaled`, respectively\n",
    "scaler = StandardScaler()\n",
    "scaler.fit(X_tr)\n",
    "X_tr_scaled = scaler.transform(X_tr)\n",
    "X_te_scaled = scaler.transform(X_te)"
   ]
  },
  {
   "cell_type": "code",
   "execution_count": 53,
   "id": "8406cff2",
   "metadata": {},
   "outputs": [],
   "source": [
    "lm = LinearRegression().fit(X_tr_scaled, y_train)"
   ]
  },
  {
   "cell_type": "code",
   "execution_count": 54,
   "id": "78fe36d5",
   "metadata": {},
   "outputs": [],
   "source": [
    "y_tr_pred = lm.predict(X_tr_scaled)\n",
    "y_te_pred = lm.predict(X_te_scaled)"
   ]
  }
 ],
 "metadata": {
  "kernelspec": {
   "display_name": "Python 3 (ipykernel)",
   "language": "python",
   "name": "python3"
  },
  "language_info": {
   "codemirror_mode": {
    "name": "ipython",
    "version": 3
   },
   "file_extension": ".py",
   "mimetype": "text/x-python",
   "name": "python",
   "nbconvert_exporter": "python",
   "pygments_lexer": "ipython3",
   "version": "3.9.12"
  }
 },
 "nbformat": 4,
 "nbformat_minor": 5
}
