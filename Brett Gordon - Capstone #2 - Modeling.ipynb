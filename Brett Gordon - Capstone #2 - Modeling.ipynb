{
 "cells": [
  {
   "cell_type": "code",
   "execution_count": 48,
   "id": "714745c3",
   "metadata": {},
   "outputs": [],
   "source": [
    "import pandas as pd\n",
    "import seaborn as sns\n",
    "import numpy as np\n",
    "import matplotlib.pyplot as plt\n",
    "\n",
    "from sklearn.preprocessing import scale\n",
    "from sklearn.model_selection import train_test_split, cross_validate, GridSearchCV, learning_curve\n",
    "from sklearn.preprocessing import StandardScaler, MinMaxScaler\n",
    "from sklearn.dummy import DummyRegressor\n",
    "from sklearn.linear_model import LinearRegression\n",
    "from sklearn.ensemble import RandomForestRegressor\n",
    "from sklearn.metrics import confusion_matrix"
   ]
  },
  {
   "cell_type": "code",
   "execution_count": 49,
   "id": "9eb37978",
   "metadata": {},
   "outputs": [],
   "source": [
    "active_team = pd.read_csv('active team top 100')\n",
    "home_team = pd.read_csv('home team top 100')\n",
    "away_team = pd.read_csv('away team top 100')\n",
    "raptor_player = pd.read_csv('raptor player merge top 100')\n",
    "player_team = pd.read_csv('player team merge top 100')\n",
    "summary_home = pd.read_csv('home summary top 100')\n",
    "summary_away = pd.read_csv('away summary top 100')\n",
    "summary = pd.read_csv('summary top 100')\n",
    "corr_summary = pd.read_csv('correlated summary top 100')\n",
    "games_40 = pd.read_csv('40 games plus')\n"
   ]
  },
  {
   "cell_type": "code",
   "execution_count": 50,
   "id": "228042e8",
   "metadata": {},
   "outputs": [
    {
     "data": {
      "text/plain": [
       "(3791.8999999999996, 1625.1)"
      ]
     },
     "execution_count": 50,
     "metadata": {},
     "output_type": "execute_result"
    }
   ],
   "source": [
    "len(corr_summary) * .7, len(corr_summary) * .3"
   ]
  },
  {
   "cell_type": "code",
   "execution_count": 51,
   "id": "ff268fac",
   "metadata": {},
   "outputs": [
    {
     "data": {
      "text/plain": [
       "(3791.8999999999996, 1625.1)"
      ]
     },
     "execution_count": 51,
     "metadata": {},
     "output_type": "execute_result"
    }
   ],
   "source": [
    "len(summary) * .7, len(summary) * .3"
   ]
  },
  {
   "cell_type": "code",
   "execution_count": 52,
   "id": "aa015285",
   "metadata": {},
   "outputs": [
    {
     "data": {
      "text/plain": [
       "Index(['Unnamed: 0', 'Game ID', 'Home ID', 'Short Home', 'Home Points',\n",
       "       'Difference', 'Away ID', 'Short Away', 'Away Points', 'year', 'Total',\n",
       "       'home_pct', 'away_pct', 'Home Team', 'Home Player ID', 'Home Player',\n",
       "       'Home Points.1', 'Home Assists', 'Home Rebounds', 'Home Minutes',\n",
       "       'Home Raptor', 'Home WAR', 'Away Team', 'Away Player ID', 'Away Player',\n",
       "       'Away Points.1', 'Away Assists', 'Away Rebounds', 'Away Minutes',\n",
       "       'Away Raptor', 'Away WAR'],\n",
       "      dtype='object')"
      ]
     },
     "execution_count": 52,
     "metadata": {},
     "output_type": "execute_result"
    }
   ],
   "source": [
    "summary.columns"
   ]
  },
  {
   "cell_type": "code",
   "execution_count": 53,
   "id": "1c673ef3",
   "metadata": {},
   "outputs": [],
   "source": [
    "corr_summary_bu = corr_summary\n",
    "corr_summary = corr_summary.drop(columns = ['Home Points','Away Points'])"
   ]
  },
  {
   "cell_type": "code",
   "execution_count": 54,
   "id": "9c3c9ee0",
   "metadata": {},
   "outputs": [],
   "source": [
    "X_train, X_test, y_train, y_test = train_test_split(corr_summary.drop(columns='Difference'), \n",
    "                                                    corr_summary.Difference, test_size=0.3, \n",
    "                                                    random_state=42)"
   ]
  },
  {
   "cell_type": "code",
   "execution_count": 55,
   "id": "c0745922",
   "metadata": {},
   "outputs": [
    {
     "data": {
      "text/plain": [
       "Unnamed: 0         int64\n",
       "year               int64\n",
       "Total              int64\n",
       "home_pct         float64\n",
       "away_pct         float64\n",
       "Home Points.1    float64\n",
       "Home Assists     float64\n",
       "Home Rebounds    float64\n",
       "Home Minutes     float64\n",
       "Home Raptor      float64\n",
       "Home WAR         float64\n",
       "Away Points.1    float64\n",
       "Away Assists     float64\n",
       "Away Rebounds    float64\n",
       "Away Minutes     float64\n",
       "Away Raptor      float64\n",
       "Away WAR         float64\n",
       "dtype: object"
      ]
     },
     "execution_count": 55,
     "metadata": {},
     "output_type": "execute_result"
    }
   ],
   "source": [
    "X_test.dtypes"
   ]
  },
  {
   "cell_type": "code",
   "execution_count": 56,
   "id": "1015a527",
   "metadata": {},
   "outputs": [],
   "source": [
    "index_old = ['Unnamed: 0', 'year']\n",
    "index_train = X_train[index_old]\n",
    "index_test = X_test[index_old]\n",
    "X_train.drop(columns=index_train, inplace=True)\n",
    "X_test.drop(columns=index_test, inplace=True)"
   ]
  },
  {
   "cell_type": "code",
   "execution_count": 57,
   "id": "aa16911a",
   "metadata": {},
   "outputs": [
    {
     "data": {
      "text/plain": [
       "Total              int64\n",
       "home_pct         float64\n",
       "away_pct         float64\n",
       "Home Points.1    float64\n",
       "Home Assists     float64\n",
       "Home Rebounds    float64\n",
       "Home Minutes     float64\n",
       "Home Raptor      float64\n",
       "Home WAR         float64\n",
       "Away Points.1    float64\n",
       "Away Assists     float64\n",
       "Away Rebounds    float64\n",
       "Away Minutes     float64\n",
       "Away Raptor      float64\n",
       "Away WAR         float64\n",
       "dtype: object"
      ]
     },
     "execution_count": 57,
     "metadata": {},
     "output_type": "execute_result"
    }
   ],
   "source": [
    "X_test.dtypes"
   ]
  },
  {
   "cell_type": "code",
   "execution_count": 58,
   "id": "5bfd4ad7",
   "metadata": {},
   "outputs": [],
   "source": [
    "feature_cols = ['Total', 'home_pct', 'away_pct', 'Home Points.1', 'Home Assists', 'Home Rebounds', 'Home Minutes',\n",
    "               'Home Raptor', 'Home WAR', 'Away Points.1', 'Away Assists', 'Away Rebounds', 'Away Minutes',\n",
    "               'Away Raptor', 'Away WAR']\n",
    "features = X_test[feature_cols]\n",
    "\n",
    "X = features"
   ]
  },
  {
   "cell_type": "code",
   "execution_count": 59,
   "id": "bcfdc782",
   "metadata": {},
   "outputs": [
    {
     "data": {
      "text/plain": [
       "0.9612239514639936"
      ]
     },
     "execution_count": 59,
     "metadata": {},
     "output_type": "execute_result"
    }
   ],
   "source": [
    "train_mean = y_train.mean()\n",
    "train_mean"
   ]
  },
  {
   "cell_type": "code",
   "execution_count": 60,
   "id": "c1317bcf",
   "metadata": {},
   "outputs": [
    {
     "data": {
      "text/plain": [
       "array([[0.96122395]])"
      ]
     },
     "execution_count": 60,
     "metadata": {},
     "output_type": "execute_result"
    }
   ],
   "source": [
    "dumb_reg = DummyRegressor(strategy='mean')\n",
    "dumb_reg.fit(X_train, y_train)\n",
    "dumb_reg.constant_"
   ]
  },
  {
   "cell_type": "code",
   "execution_count": 61,
   "id": "ab52510a",
   "metadata": {},
   "outputs": [],
   "source": [
    "from sklearn.metrics import r2_score, mean_squared_error, mean_absolute_error"
   ]
  },
  {
   "cell_type": "code",
   "execution_count": 62,
   "id": "1a36607e",
   "metadata": {},
   "outputs": [
    {
     "data": {
      "text/plain": [
       "array([0.96122395, 0.96122395, 0.96122395, 0.96122395, 0.96122395])"
      ]
     },
     "execution_count": 62,
     "metadata": {},
     "output_type": "execute_result"
    }
   ],
   "source": [
    "y_tr_pred_ = train_mean * np.ones(len(y_train))\n",
    "y_tr_pred_[:5]"
   ]
  },
  {
   "cell_type": "code",
   "execution_count": 63,
   "id": "ad006e3b",
   "metadata": {},
   "outputs": [
    {
     "data": {
      "text/plain": [
       "array([0.96122395, 0.96122395, 0.96122395, 0.96122395, 0.96122395])"
      ]
     },
     "execution_count": 63,
     "metadata": {},
     "output_type": "execute_result"
    }
   ],
   "source": [
    "y_tr_pred = dumb_reg.predict(X_train)\n",
    "y_tr_pred[:5]"
   ]
  },
  {
   "cell_type": "code",
   "execution_count": 64,
   "id": "debe49df",
   "metadata": {},
   "outputs": [
    {
     "data": {
      "text/plain": [
       "(0.0, -0.0005618570740244522)"
      ]
     },
     "execution_count": 64,
     "metadata": {},
     "output_type": "execute_result"
    }
   ],
   "source": [
    "y_te_pred = train_mean * np.ones(len(y_test))\n",
    "r2_score(y_train, y_tr_pred), r2_score(y_test, y_te_pred)"
   ]
  },
  {
   "cell_type": "code",
   "execution_count": 65,
   "id": "66ab29af",
   "metadata": {},
   "outputs": [
    {
     "data": {
      "text/plain": [
       "(12.222871075415602, 11.766757092524763)"
      ]
     },
     "execution_count": 65,
     "metadata": {},
     "output_type": "execute_result"
    }
   ],
   "source": [
    "mean_absolute_error(y_train, y_tr_pred), mean_absolute_error(y_test, y_te_pred)"
   ]
  },
  {
   "cell_type": "code",
   "execution_count": 66,
   "id": "c46dd964",
   "metadata": {},
   "outputs": [
    {
     "data": {
      "text/plain": [
       "(230.80118700101954, 213.53580619481582)"
      ]
     },
     "execution_count": 66,
     "metadata": {},
     "output_type": "execute_result"
    }
   ],
   "source": [
    "mean_squared_error(y_train, y_tr_pred), mean_squared_error(y_test, y_te_pred)"
   ]
  },
  {
   "cell_type": "code",
   "execution_count": 67,
   "id": "d0686627",
   "metadata": {},
   "outputs": [
    {
     "data": {
      "text/html": [
       "<div>\n",
       "<style scoped>\n",
       "    .dataframe tbody tr th:only-of-type {\n",
       "        vertical-align: middle;\n",
       "    }\n",
       "\n",
       "    .dataframe tbody tr th {\n",
       "        vertical-align: top;\n",
       "    }\n",
       "\n",
       "    .dataframe thead th {\n",
       "        text-align: right;\n",
       "    }\n",
       "</style>\n",
       "<table border=\"1\" class=\"dataframe\">\n",
       "  <thead>\n",
       "    <tr style=\"text-align: right;\">\n",
       "      <th></th>\n",
       "      <th>Total</th>\n",
       "      <th>home_pct</th>\n",
       "      <th>away_pct</th>\n",
       "      <th>Home Points.1</th>\n",
       "      <th>Home Assists</th>\n",
       "      <th>Home Rebounds</th>\n",
       "      <th>Home Minutes</th>\n",
       "      <th>Home Raptor</th>\n",
       "      <th>Home WAR</th>\n",
       "      <th>Away Points.1</th>\n",
       "      <th>Away Assists</th>\n",
       "      <th>Away Rebounds</th>\n",
       "      <th>Away Minutes</th>\n",
       "      <th>Away Raptor</th>\n",
       "      <th>Away WAR</th>\n",
       "    </tr>\n",
       "  </thead>\n",
       "  <tbody>\n",
       "    <tr>\n",
       "      <th>4217</th>\n",
       "      <td>206</td>\n",
       "      <td>0.500000</td>\n",
       "      <td>0.727273</td>\n",
       "      <td>NaN</td>\n",
       "      <td>NaN</td>\n",
       "      <td>NaN</td>\n",
       "      <td>NaN</td>\n",
       "      <td>NaN</td>\n",
       "      <td>NaN</td>\n",
       "      <td>15.0</td>\n",
       "      <td>4.7</td>\n",
       "      <td>3.5</td>\n",
       "      <td>2226.0</td>\n",
       "      <td>1.379565</td>\n",
       "      <td>3.857149</td>\n",
       "    </tr>\n",
       "    <tr>\n",
       "      <th>3816</th>\n",
       "      <td>225</td>\n",
       "      <td>0.464789</td>\n",
       "      <td>0.309859</td>\n",
       "      <td>NaN</td>\n",
       "      <td>NaN</td>\n",
       "      <td>NaN</td>\n",
       "      <td>NaN</td>\n",
       "      <td>NaN</td>\n",
       "      <td>NaN</td>\n",
       "      <td>8.0</td>\n",
       "      <td>1.0</td>\n",
       "      <td>5.2</td>\n",
       "      <td>1265.0</td>\n",
       "      <td>2.334951</td>\n",
       "      <td>3.104680</td>\n",
       "    </tr>\n",
       "    <tr>\n",
       "      <th>2899</th>\n",
       "      <td>216</td>\n",
       "      <td>0.285714</td>\n",
       "      <td>0.395349</td>\n",
       "      <td>NaN</td>\n",
       "      <td>NaN</td>\n",
       "      <td>NaN</td>\n",
       "      <td>NaN</td>\n",
       "      <td>NaN</td>\n",
       "      <td>NaN</td>\n",
       "      <td>20.1</td>\n",
       "      <td>6.5</td>\n",
       "      <td>4.4</td>\n",
       "      <td>2358.0</td>\n",
       "      <td>2.803172</td>\n",
       "      <td>5.420379</td>\n",
       "    </tr>\n",
       "    <tr>\n",
       "      <th>3861</th>\n",
       "      <td>203</td>\n",
       "      <td>0.471429</td>\n",
       "      <td>0.671429</td>\n",
       "      <td>NaN</td>\n",
       "      <td>NaN</td>\n",
       "      <td>NaN</td>\n",
       "      <td>NaN</td>\n",
       "      <td>NaN</td>\n",
       "      <td>NaN</td>\n",
       "      <td>8.3</td>\n",
       "      <td>2.1</td>\n",
       "      <td>3.7</td>\n",
       "      <td>1508.0</td>\n",
       "      <td>4.522579</td>\n",
       "      <td>4.948005</td>\n",
       "    </tr>\n",
       "    <tr>\n",
       "      <th>3459</th>\n",
       "      <td>198</td>\n",
       "      <td>0.421053</td>\n",
       "      <td>0.378378</td>\n",
       "      <td>NaN</td>\n",
       "      <td>NaN</td>\n",
       "      <td>NaN</td>\n",
       "      <td>NaN</td>\n",
       "      <td>NaN</td>\n",
       "      <td>NaN</td>\n",
       "      <td>12.9</td>\n",
       "      <td>1.6</td>\n",
       "      <td>9.9</td>\n",
       "      <td>1984.0</td>\n",
       "      <td>2.464636</td>\n",
       "      <td>4.564156</td>\n",
       "    </tr>\n",
       "    <tr>\n",
       "      <th>...</th>\n",
       "      <td>...</td>\n",
       "      <td>...</td>\n",
       "      <td>...</td>\n",
       "      <td>...</td>\n",
       "      <td>...</td>\n",
       "      <td>...</td>\n",
       "      <td>...</td>\n",
       "      <td>...</td>\n",
       "      <td>...</td>\n",
       "      <td>...</td>\n",
       "      <td>...</td>\n",
       "      <td>...</td>\n",
       "      <td>...</td>\n",
       "      <td>...</td>\n",
       "      <td>...</td>\n",
       "    </tr>\n",
       "    <tr>\n",
       "      <th>3772</th>\n",
       "      <td>241</td>\n",
       "      <td>0.459459</td>\n",
       "      <td>0.459459</td>\n",
       "      <td>NaN</td>\n",
       "      <td>NaN</td>\n",
       "      <td>NaN</td>\n",
       "      <td>NaN</td>\n",
       "      <td>NaN</td>\n",
       "      <td>NaN</td>\n",
       "      <td>14.3</td>\n",
       "      <td>0.9</td>\n",
       "      <td>14.2</td>\n",
       "      <td>1279.0</td>\n",
       "      <td>3.131466</td>\n",
       "      <td>3.843458</td>\n",
       "    </tr>\n",
       "    <tr>\n",
       "      <th>5191</th>\n",
       "      <td>227</td>\n",
       "      <td>0.679245</td>\n",
       "      <td>0.622642</td>\n",
       "      <td>NaN</td>\n",
       "      <td>NaN</td>\n",
       "      <td>NaN</td>\n",
       "      <td>NaN</td>\n",
       "      <td>NaN</td>\n",
       "      <td>NaN</td>\n",
       "      <td>4.5</td>\n",
       "      <td>1.0</td>\n",
       "      <td>1.4</td>\n",
       "      <td>1881.0</td>\n",
       "      <td>1.301735</td>\n",
       "      <td>3.277887</td>\n",
       "    </tr>\n",
       "    <tr>\n",
       "      <th>5226</th>\n",
       "      <td>226</td>\n",
       "      <td>0.686275</td>\n",
       "      <td>0.490196</td>\n",
       "      <td>NaN</td>\n",
       "      <td>NaN</td>\n",
       "      <td>NaN</td>\n",
       "      <td>NaN</td>\n",
       "      <td>NaN</td>\n",
       "      <td>NaN</td>\n",
       "      <td>12.4</td>\n",
       "      <td>3.7</td>\n",
       "      <td>3.9</td>\n",
       "      <td>1246.0</td>\n",
       "      <td>1.134732</td>\n",
       "      <td>2.463645</td>\n",
       "    </tr>\n",
       "    <tr>\n",
       "      <th>5390</th>\n",
       "      <td>230</td>\n",
       "      <td>0.800000</td>\n",
       "      <td>0.521739</td>\n",
       "      <td>NaN</td>\n",
       "      <td>NaN</td>\n",
       "      <td>NaN</td>\n",
       "      <td>NaN</td>\n",
       "      <td>NaN</td>\n",
       "      <td>NaN</td>\n",
       "      <td>24.9</td>\n",
       "      <td>4.3</td>\n",
       "      <td>6.8</td>\n",
       "      <td>2955.0</td>\n",
       "      <td>5.508413</td>\n",
       "      <td>9.158699</td>\n",
       "    </tr>\n",
       "    <tr>\n",
       "      <th>860</th>\n",
       "      <td>243</td>\n",
       "      <td>0.464789</td>\n",
       "      <td>0.704225</td>\n",
       "      <td>12.8</td>\n",
       "      <td>3.4</td>\n",
       "      <td>2.4</td>\n",
       "      <td>1677.0</td>\n",
       "      <td>3.404189</td>\n",
       "      <td>5.271706</td>\n",
       "      <td>NaN</td>\n",
       "      <td>NaN</td>\n",
       "      <td>NaN</td>\n",
       "      <td>NaN</td>\n",
       "      <td>NaN</td>\n",
       "      <td>NaN</td>\n",
       "    </tr>\n",
       "  </tbody>\n",
       "</table>\n",
       "<p>3791 rows × 15 columns</p>\n",
       "</div>"
      ],
      "text/plain": [
       "      Total  home_pct  away_pct  Home Points.1  Home Assists  Home Rebounds  \\\n",
       "4217    206  0.500000  0.727273            NaN           NaN            NaN   \n",
       "3816    225  0.464789  0.309859            NaN           NaN            NaN   \n",
       "2899    216  0.285714  0.395349            NaN           NaN            NaN   \n",
       "3861    203  0.471429  0.671429            NaN           NaN            NaN   \n",
       "3459    198  0.421053  0.378378            NaN           NaN            NaN   \n",
       "...     ...       ...       ...            ...           ...            ...   \n",
       "3772    241  0.459459  0.459459            NaN           NaN            NaN   \n",
       "5191    227  0.679245  0.622642            NaN           NaN            NaN   \n",
       "5226    226  0.686275  0.490196            NaN           NaN            NaN   \n",
       "5390    230  0.800000  0.521739            NaN           NaN            NaN   \n",
       "860     243  0.464789  0.704225           12.8           3.4            2.4   \n",
       "\n",
       "      Home Minutes  Home Raptor  Home WAR  Away Points.1  Away Assists  \\\n",
       "4217           NaN          NaN       NaN           15.0           4.7   \n",
       "3816           NaN          NaN       NaN            8.0           1.0   \n",
       "2899           NaN          NaN       NaN           20.1           6.5   \n",
       "3861           NaN          NaN       NaN            8.3           2.1   \n",
       "3459           NaN          NaN       NaN           12.9           1.6   \n",
       "...            ...          ...       ...            ...           ...   \n",
       "3772           NaN          NaN       NaN           14.3           0.9   \n",
       "5191           NaN          NaN       NaN            4.5           1.0   \n",
       "5226           NaN          NaN       NaN           12.4           3.7   \n",
       "5390           NaN          NaN       NaN           24.9           4.3   \n",
       "860         1677.0     3.404189  5.271706            NaN           NaN   \n",
       "\n",
       "      Away Rebounds  Away Minutes  Away Raptor  Away WAR  \n",
       "4217            3.5        2226.0     1.379565  3.857149  \n",
       "3816            5.2        1265.0     2.334951  3.104680  \n",
       "2899            4.4        2358.0     2.803172  5.420379  \n",
       "3861            3.7        1508.0     4.522579  4.948005  \n",
       "3459            9.9        1984.0     2.464636  4.564156  \n",
       "...             ...           ...          ...       ...  \n",
       "3772           14.2        1279.0     3.131466  3.843458  \n",
       "5191            1.4        1881.0     1.301735  3.277887  \n",
       "5226            3.9        1246.0     1.134732  2.463645  \n",
       "5390            6.8        2955.0     5.508413  9.158699  \n",
       "860             NaN           NaN          NaN       NaN  \n",
       "\n",
       "[3791 rows x 15 columns]"
      ]
     },
     "execution_count": 67,
     "metadata": {},
     "output_type": "execute_result"
    }
   ],
   "source": [
    "X_train"
   ]
  },
  {
   "cell_type": "code",
   "execution_count": 68,
   "id": "eea92acc",
   "metadata": {},
   "outputs": [
    {
     "data": {
      "text/html": [
       "<div>\n",
       "<style scoped>\n",
       "    .dataframe tbody tr th:only-of-type {\n",
       "        vertical-align: middle;\n",
       "    }\n",
       "\n",
       "    .dataframe tbody tr th {\n",
       "        vertical-align: top;\n",
       "    }\n",
       "\n",
       "    .dataframe thead th {\n",
       "        text-align: right;\n",
       "    }\n",
       "</style>\n",
       "<table border=\"1\" class=\"dataframe\">\n",
       "  <thead>\n",
       "    <tr style=\"text-align: right;\">\n",
       "      <th></th>\n",
       "      <th>Total</th>\n",
       "      <th>home_pct</th>\n",
       "      <th>away_pct</th>\n",
       "      <th>Home Points.1</th>\n",
       "      <th>Home Assists</th>\n",
       "      <th>Home Rebounds</th>\n",
       "      <th>Home Minutes</th>\n",
       "      <th>Home Raptor</th>\n",
       "      <th>Home WAR</th>\n",
       "      <th>Away Points.1</th>\n",
       "      <th>Away Assists</th>\n",
       "      <th>Away Rebounds</th>\n",
       "      <th>Away Minutes</th>\n",
       "      <th>Away Raptor</th>\n",
       "      <th>Away WAR</th>\n",
       "    </tr>\n",
       "  </thead>\n",
       "  <tbody>\n",
       "    <tr>\n",
       "      <th>290</th>\n",
       "      <td>227</td>\n",
       "      <td>0.361111</td>\n",
       "      <td>0.444444</td>\n",
       "      <td>11.9</td>\n",
       "      <td>1.4</td>\n",
       "      <td>6.8</td>\n",
       "      <td>980.0</td>\n",
       "      <td>3.919910</td>\n",
       "      <td>3.343099</td>\n",
       "      <td>NaN</td>\n",
       "      <td>NaN</td>\n",
       "      <td>NaN</td>\n",
       "      <td>NaN</td>\n",
       "      <td>NaN</td>\n",
       "      <td>NaN</td>\n",
       "    </tr>\n",
       "    <tr>\n",
       "      <th>5114</th>\n",
       "      <td>213</td>\n",
       "      <td>0.666667</td>\n",
       "      <td>0.533333</td>\n",
       "      <td>NaN</td>\n",
       "      <td>NaN</td>\n",
       "      <td>NaN</td>\n",
       "      <td>NaN</td>\n",
       "      <td>NaN</td>\n",
       "      <td>NaN</td>\n",
       "      <td>12.8</td>\n",
       "      <td>5.4</td>\n",
       "      <td>2.8</td>\n",
       "      <td>2567.0</td>\n",
       "      <td>2.906803</td>\n",
       "      <td>5.357300</td>\n",
       "    </tr>\n",
       "    <tr>\n",
       "      <th>4897</th>\n",
       "      <td>210</td>\n",
       "      <td>0.622222</td>\n",
       "      <td>0.711111</td>\n",
       "      <td>NaN</td>\n",
       "      <td>NaN</td>\n",
       "      <td>NaN</td>\n",
       "      <td>NaN</td>\n",
       "      <td>NaN</td>\n",
       "      <td>NaN</td>\n",
       "      <td>3.7</td>\n",
       "      <td>1.0</td>\n",
       "      <td>1.7</td>\n",
       "      <td>1362.0</td>\n",
       "      <td>1.740990</td>\n",
       "      <td>3.202411</td>\n",
       "    </tr>\n",
       "    <tr>\n",
       "      <th>4386</th>\n",
       "      <td>237</td>\n",
       "      <td>0.521739</td>\n",
       "      <td>0.666667</td>\n",
       "      <td>NaN</td>\n",
       "      <td>NaN</td>\n",
       "      <td>NaN</td>\n",
       "      <td>NaN</td>\n",
       "      <td>NaN</td>\n",
       "      <td>NaN</td>\n",
       "      <td>15.9</td>\n",
       "      <td>5.2</td>\n",
       "      <td>4.6</td>\n",
       "      <td>2117.0</td>\n",
       "      <td>4.696540</td>\n",
       "      <td>8.090246</td>\n",
       "    </tr>\n",
       "    <tr>\n",
       "      <th>1074</th>\n",
       "      <td>234</td>\n",
       "      <td>0.492537</td>\n",
       "      <td>0.313433</td>\n",
       "      <td>13.1</td>\n",
       "      <td>5.2</td>\n",
       "      <td>2.7</td>\n",
       "      <td>2211.0</td>\n",
       "      <td>1.397441</td>\n",
       "      <td>4.653322</td>\n",
       "      <td>NaN</td>\n",
       "      <td>NaN</td>\n",
       "      <td>NaN</td>\n",
       "      <td>NaN</td>\n",
       "      <td>NaN</td>\n",
       "      <td>NaN</td>\n",
       "    </tr>\n",
       "    <tr>\n",
       "      <th>...</th>\n",
       "      <td>...</td>\n",
       "      <td>...</td>\n",
       "      <td>...</td>\n",
       "      <td>...</td>\n",
       "      <td>...</td>\n",
       "      <td>...</td>\n",
       "      <td>...</td>\n",
       "      <td>...</td>\n",
       "      <td>...</td>\n",
       "      <td>...</td>\n",
       "      <td>...</td>\n",
       "      <td>...</td>\n",
       "      <td>...</td>\n",
       "      <td>...</td>\n",
       "      <td>...</td>\n",
       "    </tr>\n",
       "    <tr>\n",
       "      <th>3718</th>\n",
       "      <td>230</td>\n",
       "      <td>0.454545</td>\n",
       "      <td>0.558824</td>\n",
       "      <td>NaN</td>\n",
       "      <td>NaN</td>\n",
       "      <td>NaN</td>\n",
       "      <td>NaN</td>\n",
       "      <td>NaN</td>\n",
       "      <td>NaN</td>\n",
       "      <td>21.1</td>\n",
       "      <td>4.8</td>\n",
       "      <td>4.0</td>\n",
       "      <td>2657.0</td>\n",
       "      <td>3.668179</td>\n",
       "      <td>4.390505</td>\n",
       "    </tr>\n",
       "    <tr>\n",
       "      <th>5015</th>\n",
       "      <td>199</td>\n",
       "      <td>0.653061</td>\n",
       "      <td>0.340426</td>\n",
       "      <td>NaN</td>\n",
       "      <td>NaN</td>\n",
       "      <td>NaN</td>\n",
       "      <td>NaN</td>\n",
       "      <td>NaN</td>\n",
       "      <td>NaN</td>\n",
       "      <td>11.9</td>\n",
       "      <td>1.4</td>\n",
       "      <td>6.8</td>\n",
       "      <td>980.0</td>\n",
       "      <td>3.919910</td>\n",
       "      <td>3.343099</td>\n",
       "    </tr>\n",
       "    <tr>\n",
       "      <th>2577</th>\n",
       "      <td>247</td>\n",
       "      <td>0.731343</td>\n",
       "      <td>0.656716</td>\n",
       "      <td>5.9</td>\n",
       "      <td>0.9</td>\n",
       "      <td>5.3</td>\n",
       "      <td>1243.0</td>\n",
       "      <td>3.359750</td>\n",
       "      <td>3.865372</td>\n",
       "      <td>NaN</td>\n",
       "      <td>NaN</td>\n",
       "      <td>NaN</td>\n",
       "      <td>NaN</td>\n",
       "      <td>NaN</td>\n",
       "      <td>NaN</td>\n",
       "    </tr>\n",
       "    <tr>\n",
       "      <th>579</th>\n",
       "      <td>198</td>\n",
       "      <td>0.421053</td>\n",
       "      <td>0.378378</td>\n",
       "      <td>11.3</td>\n",
       "      <td>3.7</td>\n",
       "      <td>3.4</td>\n",
       "      <td>1913.0</td>\n",
       "      <td>2.611151</td>\n",
       "      <td>4.416973</td>\n",
       "      <td>NaN</td>\n",
       "      <td>NaN</td>\n",
       "      <td>NaN</td>\n",
       "      <td>NaN</td>\n",
       "      <td>NaN</td>\n",
       "      <td>NaN</td>\n",
       "    </tr>\n",
       "    <tr>\n",
       "      <th>4187</th>\n",
       "      <td>225</td>\n",
       "      <td>0.500000</td>\n",
       "      <td>0.666667</td>\n",
       "      <td>NaN</td>\n",
       "      <td>NaN</td>\n",
       "      <td>NaN</td>\n",
       "      <td>NaN</td>\n",
       "      <td>NaN</td>\n",
       "      <td>NaN</td>\n",
       "      <td>14.8</td>\n",
       "      <td>1.1</td>\n",
       "      <td>6.6</td>\n",
       "      <td>1992.0</td>\n",
       "      <td>3.152026</td>\n",
       "      <td>6.298887</td>\n",
       "    </tr>\n",
       "  </tbody>\n",
       "</table>\n",
       "<p>1626 rows × 15 columns</p>\n",
       "</div>"
      ],
      "text/plain": [
       "      Total  home_pct  away_pct  Home Points.1  Home Assists  Home Rebounds  \\\n",
       "290     227  0.361111  0.444444           11.9           1.4            6.8   \n",
       "5114    213  0.666667  0.533333            NaN           NaN            NaN   \n",
       "4897    210  0.622222  0.711111            NaN           NaN            NaN   \n",
       "4386    237  0.521739  0.666667            NaN           NaN            NaN   \n",
       "1074    234  0.492537  0.313433           13.1           5.2            2.7   \n",
       "...     ...       ...       ...            ...           ...            ...   \n",
       "3718    230  0.454545  0.558824            NaN           NaN            NaN   \n",
       "5015    199  0.653061  0.340426            NaN           NaN            NaN   \n",
       "2577    247  0.731343  0.656716            5.9           0.9            5.3   \n",
       "579     198  0.421053  0.378378           11.3           3.7            3.4   \n",
       "4187    225  0.500000  0.666667            NaN           NaN            NaN   \n",
       "\n",
       "      Home Minutes  Home Raptor  Home WAR  Away Points.1  Away Assists  \\\n",
       "290          980.0     3.919910  3.343099            NaN           NaN   \n",
       "5114           NaN          NaN       NaN           12.8           5.4   \n",
       "4897           NaN          NaN       NaN            3.7           1.0   \n",
       "4386           NaN          NaN       NaN           15.9           5.2   \n",
       "1074        2211.0     1.397441  4.653322            NaN           NaN   \n",
       "...            ...          ...       ...            ...           ...   \n",
       "3718           NaN          NaN       NaN           21.1           4.8   \n",
       "5015           NaN          NaN       NaN           11.9           1.4   \n",
       "2577        1243.0     3.359750  3.865372            NaN           NaN   \n",
       "579         1913.0     2.611151  4.416973            NaN           NaN   \n",
       "4187           NaN          NaN       NaN           14.8           1.1   \n",
       "\n",
       "      Away Rebounds  Away Minutes  Away Raptor  Away WAR  \n",
       "290             NaN           NaN          NaN       NaN  \n",
       "5114            2.8        2567.0     2.906803  5.357300  \n",
       "4897            1.7        1362.0     1.740990  3.202411  \n",
       "4386            4.6        2117.0     4.696540  8.090246  \n",
       "1074            NaN           NaN          NaN       NaN  \n",
       "...             ...           ...          ...       ...  \n",
       "3718            4.0        2657.0     3.668179  4.390505  \n",
       "5015            6.8         980.0     3.919910  3.343099  \n",
       "2577            NaN           NaN          NaN       NaN  \n",
       "579             NaN           NaN          NaN       NaN  \n",
       "4187            6.6        1992.0     3.152026  6.298887  \n",
       "\n",
       "[1626 rows x 15 columns]"
      ]
     },
     "execution_count": 68,
     "metadata": {},
     "output_type": "execute_result"
    }
   ],
   "source": [
    "X_test"
   ]
  },
  {
   "cell_type": "code",
   "execution_count": 69,
   "id": "0acc5e4f",
   "metadata": {},
   "outputs": [
    {
     "data": {
      "text/plain": [
       "Total             226.000000\n",
       "home_pct            0.500000\n",
       "away_pct            0.509091\n",
       "Home Points.1      12.800000\n",
       "Home Assists        2.900000\n",
       "Home Rebounds       4.700000\n",
       "Home Minutes     1898.000000\n",
       "Home Raptor         2.458975\n",
       "Home WAR            4.416973\n",
       "Away Points.1      12.800000\n",
       "Away Assists        2.900000\n",
       "Away Rebounds       4.700000\n",
       "Away Minutes     1908.000000\n",
       "Away Raptor         2.457199\n",
       "Away WAR            4.416973\n",
       "dtype: float64"
      ]
     },
     "execution_count": 69,
     "metadata": {},
     "output_type": "execute_result"
    }
   ],
   "source": [
    "X_defaults_median = X_train.median()\n",
    "X_defaults_median"
   ]
  },
  {
   "cell_type": "code",
   "execution_count": 70,
   "id": "3f89f7ab",
   "metadata": {},
   "outputs": [
    {
     "data": {
      "text/plain": [
       "Total             224.972303\n",
       "home_pct            0.510302\n",
       "away_pct            0.513761\n",
       "Home Points.1      14.498059\n",
       "Home Assists        3.337951\n",
       "Home Rebounds       5.546253\n",
       "Home Minutes     1780.022102\n",
       "Home Raptor         2.960443\n",
       "Home WAR            4.728721\n",
       "Away Points.1      14.344367\n",
       "Away Assists        3.326482\n",
       "Away Rebounds       5.555152\n",
       "Away Minutes     1773.503470\n",
       "Away Raptor         2.959686\n",
       "Away WAR            4.711853\n",
       "dtype: float64"
      ]
     },
     "execution_count": 70,
     "metadata": {},
     "output_type": "execute_result"
    }
   ],
   "source": [
    "X_defaults_mean = X_train.mean()\n",
    "X_defaults_mean"
   ]
  },
  {
   "cell_type": "code",
   "execution_count": 71,
   "id": "acd9a43a",
   "metadata": {},
   "outputs": [],
   "source": [
    "X_tr = X_train.fillna(X_defaults_mean)\n",
    "X_te = X_test.fillna(X_defaults_mean)\n",
    "\n",
    "#Call the StandardScaler`s fit method on `X_tr` to fit the scaler\n",
    "#then use it's `transform()` method to apply the scaling to both the train and test split\n",
    "#data (`X_tr` and `X_te`), naming the results `X_tr_scaled` and `X_te_scaled`, respectively\n",
    "scaler = StandardScaler()\n",
    "scaler.fit(X_tr)\n",
    "X_tr_scaled = scaler.transform(X_tr)\n",
    "X_te_scaled = scaler.transform(X_te)\n",
    "\n",
    "#r2_score(y_train, y_tr_pred), r2_score(y_test, y_te_pred)"
   ]
  },
  {
   "cell_type": "code",
   "execution_count": 72,
   "id": "4f9735bf",
   "metadata": {},
   "outputs": [
    {
     "data": {
      "text/plain": [
       "(12.222871075415602, 11.766757092524763)"
      ]
     },
     "execution_count": 72,
     "metadata": {},
     "output_type": "execute_result"
    }
   ],
   "source": [
    "mean_absolute_error(y_train, y_tr_pred), mean_absolute_error(y_test, y_te_pred)"
   ]
  },
  {
   "cell_type": "markdown",
   "id": "fa71a0c3",
   "metadata": {},
   "source": [
    "# LINEAR REGRESSION"
   ]
  },
  {
   "cell_type": "code",
   "execution_count": 73,
   "id": "8406cff2",
   "metadata": {},
   "outputs": [],
   "source": [
    "lm = LinearRegression().fit(X_tr_scaled, y_train)"
   ]
  },
  {
   "cell_type": "code",
   "execution_count": 74,
   "id": "78fe36d5",
   "metadata": {},
   "outputs": [],
   "source": [
    "y_tr_pred = lm.predict(X_tr_scaled)\n",
    "y_te_pred = lm.predict(X_te_scaled)"
   ]
  },
  {
   "cell_type": "code",
   "execution_count": 75,
   "id": "1399fbf6",
   "metadata": {},
   "outputs": [
    {
     "data": {
      "text/plain": [
       "(0.20612829892004514, 0.21323940366139538)"
      ]
     },
     "execution_count": 75,
     "metadata": {},
     "output_type": "execute_result"
    }
   ],
   "source": [
    "r2_score(y_train, y_tr_pred), r2_score(y_test, y_te_pred)"
   ]
  },
  {
   "cell_type": "code",
   "execution_count": 76,
   "id": "bd2a133d",
   "metadata": {},
   "outputs": [
    {
     "data": {
      "text/plain": [
       "<matplotlib.collections.PathCollection at 0x19799ed8f10>"
      ]
     },
     "execution_count": 76,
     "metadata": {},
     "output_type": "execute_result"
    },
    {
     "data": {
      "image/png": "[encoded data removed]",
      "text/plain": [
       "<Figure size 432x288 with 1 Axes>"
      ]
     },
     "metadata": {
      "needs_background": "light"
     },
     "output_type": "display_data"
    }
   ],
   "source": [
    "plt.scatter(y_test, y_te_pred)"
   ]
  },
  {
   "cell_type": "code",
   "execution_count": 77,
   "id": "52b2595d",
   "metadata": {},
   "outputs": [
    {
     "data": {
      "text/plain": [
       "(array([  5.,  40.,  98., 254., 365., 537., 216.,  89.,  14.,   8.]),\n",
       " array([-49. , -38.8, -28.6, -18.4,  -8.2,   2. ,  12.2,  22.4,  32.6,\n",
       "         42.8,  53. ]),\n",
       " <BarContainer object of 10 artists>)"
      ]
     },
     "execution_count": 77,
     "metadata": {},
     "output_type": "execute_result"
    },
    {
     "data": {
      "image/png": "[encoded data removed]",
      "text/plain": [
       "<Figure size 432x288 with 1 Axes>"
      ]
     },
     "metadata": {
      "needs_background": "light"
     },
     "output_type": "display_data"
    }
   ],
   "source": [
    "plt.hist(y_test)"
   ]
  },
  {
   "cell_type": "code",
   "execution_count": 78,
   "id": "244d8a41",
   "metadata": {},
   "outputs": [
    {
     "data": {
      "text/plain": [
       "(10.63578754952317, 10.267773985686505)"
      ]
     },
     "execution_count": 78,
     "metadata": {},
     "output_type": "execute_result"
    }
   ],
   "source": [
    "mean_absolute_error(y_train, y_tr_pred), mean_absolute_error(y_test, y_te_pred)"
   ]
  },
  {
   "cell_type": "code",
   "execution_count": 79,
   "id": "d479824e",
   "metadata": {},
   "outputs": [
    {
     "data": {
      "text/plain": [
       "(183.22653093577216, 167.90721836306096)"
      ]
     },
     "execution_count": 79,
     "metadata": {},
     "output_type": "execute_result"
    }
   ],
   "source": [
    "mean_squared_error(y_train, y_tr_pred), mean_squared_error(y_test, y_te_pred)"
   ]
  },
  {
   "cell_type": "code",
   "execution_count": 80,
   "id": "256279cc",
   "metadata": {},
   "outputs": [
    {
     "name": "stdout",
     "output_type": "stream",
     "text": [
      "R-squared score for training set: 0.20612829892004514\n",
      "R-squared score for test set: 0.21323940366139538\n",
      "Mean Absolute Error for training set: 10.63578754952317\n",
      "Mean Absolute Error for test set: 10.267773985686505\n",
      "Mean Squared Error for training set: 183.22653093577216\n",
      "Mean Squared Error for test set: 167.90721836306096\n"
     ]
    }
   ],
   "source": [
    "print(\"R-squared score for training set:\", r2_score(y_train, y_tr_pred))\n",
    "print(\"R-squared score for test set:\", r2_score(y_test, y_te_pred))\n",
    "print(\"Mean Absolute Error for training set:\", mean_absolute_error(y_train, y_tr_pred))\n",
    "print(\"Mean Absolute Error for test set:\", mean_absolute_error(y_test, y_te_pred))\n",
    "print(\"Mean Squared Error for training set:\", mean_squared_error(y_train, y_tr_pred))\n",
    "print(\"Mean Squared Error for test set:\", mean_squared_error(y_test, y_te_pred))"
   ]
  },
  {
   "cell_type": "markdown",
   "id": "f0a80fc4",
   "metadata": {},
   "source": [
    "# KNN (K-Nearest Neighbors)"
   ]
  },
  {
   "cell_type": "code",
   "execution_count": 81,
   "id": "3c79f95e",
   "metadata": {},
   "outputs": [],
   "source": [
    "from sklearn.neighbors import KNeighborsRegressor\n",
    "\n",
    "# Apply KNN model to training data:\n",
    "\n",
    "#List Hyperparameters that we want to tune.\n",
    "leaf_size = list([3, 5, 10, 15, 25, 50])\n",
    "n_neighbors = list([1, 10, 15, 20, 25, 30])\n",
    "p=[1,2]\n",
    "#Convert to dictionary\n",
    "hyperparameters = dict(leaf_size=leaf_size, n_neighbors=n_neighbors, p=p)\n",
    "#Create new KNN object\n"
   ]
  },
  {
   "cell_type": "code",
   "execution_count": 82,
   "id": "29978335",
   "metadata": {},
   "outputs": [
    {
     "name": "stdout",
     "output_type": "stream",
     "text": [
      "Best leaf_size: 3\n",
      "Best p: 2\n",
      "Best n_neighbors: 25\n"
     ]
    }
   ],
   "source": [
    "knn_2 = KNeighborsRegressor()\n",
    "\n",
    "#Use GridSearch\n",
    "clf = GridSearchCV(knn_2, hyperparameters, cv=5)\n",
    "#Fit the model\n",
    "best_model = clf.fit(X_tr_scaled, y_train)\n",
    "#Print The value of best Hyperparameters\n",
    "print('Best leaf_size:', best_model.best_estimator_.get_params()['leaf_size'])\n",
    "print('Best p:', best_model.best_estimator_.get_params()['p'])\n",
    "print('Best n_neighbors:', best_model.best_estimator_.get_params()['n_neighbors'])"
   ]
  },
  {
   "cell_type": "code",
   "execution_count": 83,
   "id": "79affbf3",
   "metadata": {},
   "outputs": [
    {
     "name": "stdout",
     "output_type": "stream",
     "text": [
      "R-squared score for training set: 0.21201411565625694\n",
      "R-squared score for test set: 0.1582892204163281\n",
      "Mean Absolute Error for training set: 10.664415721445529\n",
      "Mean Absolute Error for test set: 10.624821648216482\n",
      "Mean Squared Error for training set: 181.868077446584\n",
      "Mean Squared Error for test set: 179.63446100861006\n"
     ]
    }
   ],
   "source": [
    "# Apply KNN model to training data:\n",
    "\n",
    "knn = KNeighborsRegressor(p=2,leaf_size=3,n_neighbors=25)\n",
    "knn.fit(X_tr_scaled,y_train)\n",
    "\n",
    "# Predict using model:\n",
    "\n",
    "y_tr_predict_knn=knn.predict(X_tr_scaled)\n",
    "y_te_predict_knn=knn.predict(X_te_scaled)\n",
    "\n",
    "print(\"R-squared score for training set:\", r2_score(y_train, y_tr_predict_knn))\n",
    "print(\"R-squared score for test set:\", r2_score(y_test, y_te_predict_knn))\n",
    "print(\"Mean Absolute Error for training set:\", mean_absolute_error(y_train, y_tr_predict_knn))\n",
    "print(\"Mean Absolute Error for test set:\", mean_absolute_error(y_test, y_te_predict_knn))\n",
    "print(\"Mean Squared Error for training set:\", mean_squared_error(y_train, y_tr_predict_knn))\n",
    "print(\"Mean Squared Error for test set:\", mean_squared_error(y_test, y_te_predict_knn))"
   ]
  },
  {
   "cell_type": "markdown",
   "id": "f3ca5918",
   "metadata": {},
   "source": [
    "# Epsilon-Support Vector Regression"
   ]
  },
  {
   "cell_type": "code",
   "execution_count": 84,
   "id": "87069cdc",
   "metadata": {},
   "outputs": [
    {
     "name": "stdout",
     "output_type": "stream",
     "text": [
      "R-squared score for training set: 0.20499453404262125\n",
      "R-squared score for test set: 0.21272577332776854\n",
      "Mean Absolute Error for training set: 10.623941557915801\n",
      "Mean Absolute Error for test set: 10.252053256885576\n",
      "Mean Squared Error for training set: 183.48820521526164\n",
      "Mean Squared Error for test set: 168.01683524141953\n"
     ]
    }
   ],
   "source": [
    "from sklearn.svm import SVR\n",
    "\n",
    "svm = SVR(kernel='linear')\n",
    "svm.fit(X_tr_scaled, y_train)\n",
    "\n",
    "# Predict using model:\n",
    "\n",
    "y_pred_tr_svr=svm.predict(X_tr_scaled)\n",
    "y_pred_te_svr=svm.predict(X_te_scaled)\n",
    "\n",
    "print(\"R-squared score for training set:\", r2_score(y_train, y_pred_tr_svr))\n",
    "print(\"R-squared score for test set:\", r2_score(y_test, y_pred_te_svr))\n",
    "print(\"Mean Absolute Error for training set:\", mean_absolute_error(y_train, y_pred_tr_svr))\n",
    "print(\"Mean Absolute Error for test set:\", mean_absolute_error(y_test, y_pred_te_svr))\n",
    "print(\"Mean Squared Error for training set:\", mean_squared_error(y_train, y_pred_tr_svr))\n",
    "print(\"Mean Squared Error for test set:\", mean_squared_error(y_test, y_pred_te_svr))"
   ]
  },
  {
   "cell_type": "markdown",
   "id": "59e3c590",
   "metadata": {},
   "source": [
    "# Linear SVR"
   ]
  },
  {
   "cell_type": "code",
   "execution_count": 85,
   "id": "c989b209",
   "metadata": {},
   "outputs": [
    {
     "name": "stdout",
     "output_type": "stream",
     "text": [
      "R-squared score for training set: 0.20502359224608502\n",
      "R-squared score for test set: 0.2128288524076093\n",
      "Mean Absolute Error for training set: 10.62419028115233\n",
      "Mean Absolute Error for test set: 10.253363904166244\n",
      "Mean Squared Error for training set: 183.4814985474101\n",
      "Mean Squared Error for test set: 167.99483652713718\n"
     ]
    }
   ],
   "source": [
    "from sklearn.svm import LinearSVR\n",
    "\n",
    "lin_svm = LinearSVR()\n",
    "lin_svm.fit(X_tr_scaled, y_train)\n",
    "\n",
    "# Predict using model:\n",
    "\n",
    "y_pred_tr_lsvr=lin_svm.predict(X_tr_scaled)\n",
    "y_pred_te_lsvr=lin_svm.predict(X_te_scaled)\n",
    "\n",
    "print(\"R-squared score for training set:\", r2_score(y_train, y_pred_tr_lsvr))\n",
    "print(\"R-squared score for test set:\", r2_score(y_test, y_pred_te_lsvr))\n",
    "print(\"Mean Absolute Error for training set:\", mean_absolute_error(y_train, y_pred_tr_lsvr))\n",
    "print(\"Mean Absolute Error for test set:\", mean_absolute_error(y_test, y_pred_te_lsvr))\n",
    "print(\"Mean Squared Error for training set:\", mean_squared_error(y_train, y_pred_tr_lsvr))\n",
    "print(\"Mean Squared Error for test set:\", mean_squared_error(y_test, y_pred_te_lsvr))"
   ]
  },
  {
   "cell_type": "markdown",
   "id": "d9c0ba7e",
   "metadata": {},
   "source": [
    "# Random Forest (Squared-Error Criterion)"
   ]
  },
  {
   "cell_type": "code",
   "execution_count": 86,
   "id": "a0bdb21f",
   "metadata": {},
   "outputs": [],
   "source": [
    "from sklearn.ensemble import RandomForestRegressor\n",
    "\n",
    "n_estimators = list([5,20, 40, 60, 80, 100])\n",
    "min_samples_leaf = list([1, 3, 5, 7, 9])\n",
    "\n",
    "#Convert to dictionary\n",
    "hyperparameters = dict(n_estimators=n_estimators, min_samples_leaf=min_samples_leaf)\n",
    "\n",
    "rf2= RandomForestRegressor()\n",
    "\n",
    "#Use GridSearch\n",
    "clf = GridSearchCV(rf2, hyperparameters, cv=5)\n",
    "#Fit the model\n",
    "best_model = clf.fit(X_tr_scaled, y_train)"
   ]
  },
  {
   "cell_type": "code",
   "execution_count": 87,
   "id": "d10892e4",
   "metadata": {},
   "outputs": [
    {
     "name": "stdout",
     "output_type": "stream",
     "text": [
      "Best n_estimators: 80\n",
      "Best min_samples_leaf: 1\n"
     ]
    }
   ],
   "source": [
    "print('Best n_estimators:', best_model.best_estimator_.get_params()['n_estimators'])\n",
    "print('Best min_samples_leaf:', best_model.best_estimator_.get_params()['min_samples_leaf'])"
   ]
  },
  {
   "cell_type": "code",
   "execution_count": 88,
   "id": "63d0d0a6",
   "metadata": {},
   "outputs": [
    {
     "name": "stdout",
     "output_type": "stream",
     "text": [
      "R-squared score for training set: 0.9887109593614032\n",
      "R-squared score for test set: 0.9004546017474713\n",
      "Mean Absolute Error for training set: 0.9667205222896333\n",
      "Mean Absolute Error for test set: 2.614206642066421\n",
      "Mean Squared Error for training set: 2.6055239794908998\n",
      "Mean Squared Error for test set: 21.244570456642066\n"
     ]
    }
   ],
   "source": [
    "#Running with Squared Error criterion first\n",
    "rf = RandomForestRegressor(bootstrap=True,n_estimators=80,criterion='squared_error',min_samples_leaf=1)\n",
    "rf.fit(X_tr_scaled, y_train)\n",
    "\n",
    "#Predict using the model:\n",
    "\n",
    "y_pred_tr_rf = rf.predict(X_tr_scaled)\n",
    "y_pred_te_rf = rf.predict(X_te_scaled)\n",
    "\n",
    "print(\"R-squared score for training set:\", r2_score(y_train, y_pred_tr_rf))\n",
    "print(\"R-squared score for test set:\", r2_score(y_test, y_pred_te_rf))\n",
    "print(\"Mean Absolute Error for training set:\", mean_absolute_error(y_train, y_pred_tr_rf))\n",
    "print(\"Mean Absolute Error for test set:\", mean_absolute_error(y_test, y_pred_te_rf))\n",
    "print(\"Mean Squared Error for training set:\", mean_squared_error(y_train, y_pred_tr_rf))\n",
    "print(\"Mean Squared Error for test set:\", mean_squared_error(y_test, y_pred_te_rf))"
   ]
  },
  {
   "cell_type": "markdown",
   "id": "1415040e",
   "metadata": {},
   "source": [
    "# Random Forest (Absolute Mean Error Criterion)"
   ]
  },
  {
   "cell_type": "code",
   "execution_count": 90,
   "id": "137e2228",
   "metadata": {},
   "outputs": [
    {
     "name": "stdout",
     "output_type": "stream",
     "text": [
      "R-squared score for training set: 0.9863106888114324\n",
      "R-squared score for test set: 0.8864305033864176\n",
      "Mean Absolute Error for training set: 1.1639161830651543\n",
      "Mean Absolute Error for test set: 3.0676353013530138\n",
      "Mean Squared Error for training set: 3.159509271547745\n",
      "Mean Squared Error for test set: 24.237535987469254\n"
     ]
    }
   ],
   "source": [
    "from sklearn.ensemble import RandomForestRegressor\n",
    "\n",
    "#Apply RF to the training data:\n",
    "\n",
    "#Running with Squared Error criterion first\n",
    "rf2 = RandomForestRegressor(bootstrap=True,n_estimators=80,criterion='absolute_error',min_samples_leaf=1)\n",
    "rf2.fit(X_tr_scaled, y_train)\n",
    "\n",
    "#Predict using the model:\n",
    "\n",
    "y_pred_tr_rf2 = rf2.predict(X_tr_scaled)\n",
    "y_pred_te_rf2 = rf2.predict(X_te_scaled)\n",
    "\n",
    "print(\"R-squared score for training set:\", r2_score(y_train, y_pred_tr_rf2))\n",
    "print(\"R-squared score for test set:\", r2_score(y_test, y_pred_te_rf2))\n",
    "print(\"Mean Absolute Error for training set:\", mean_absolute_error(y_train, y_pred_tr_rf2))\n",
    "print(\"Mean Absolute Error for test set:\", mean_absolute_error(y_test, y_pred_te_rf2))\n",
    "print(\"Mean Squared Error for training set:\", mean_squared_error(y_train, y_pred_tr_rf2))\n",
    "print(\"Mean Squared Error for test set:\", mean_squared_error(y_test, y_pred_te_rf2))"
   ]
  },
  {
   "cell_type": "markdown",
   "id": "27a43a07",
   "metadata": {},
   "source": [
    "# Gradient Boosting (Squared Error Loss)"
   ]
  },
  {
   "cell_type": "code",
   "execution_count": 91,
   "id": "4d97628f",
   "metadata": {},
   "outputs": [],
   "source": [
    "from sklearn.ensemble import GradientBoostingRegressor\n",
    "\n",
    "learning_rate = list([0.1, 0.5, 1, 5])\n",
    "n_estimators = list([25, 50, 100])\n",
    "subsample = list([0.8, 1.0])\n",
    "min_samples_leaf = list(range(1,5))\n",
    "max_depth = list([3, 5, 7, 9])\n",
    "max_leaf_nodes = list([5, 10, 25])\n",
    "\n",
    "#Convert to dictionary\n",
    "hyperparameters = dict(learning_rate=learning_rate, n_estimators=n_estimators, subsample=subsample,\n",
    "        min_samples_leaf=min_samples_leaf, max_depth=max_depth, max_leaf_nodes=max_leaf_nodes)\n",
    "\n",
    "gb2= GradientBoostingRegressor()\n",
    "\n",
    "#Use GridSearch\n",
    "clf = GridSearchCV(gb2, hyperparameters, cv=5)\n",
    "#Fit the model\n",
    "best_model = clf.fit(X_tr_scaled, y_train)"
   ]
  },
  {
   "cell_type": "code",
   "execution_count": 92,
   "id": "ebb6db6d",
   "metadata": {},
   "outputs": [
    {
     "name": "stdout",
     "output_type": "stream",
     "text": [
      "Best n_estimators: 100\n",
      "Best min_samples_leaf: 1\n",
      "Best learning_rate: 0.5\n",
      "Best subsample: 1.0\n",
      "Best max_depth: 9\n",
      "Best max_leaf_nodes: 25\n"
     ]
    }
   ],
   "source": [
    "print('Best n_estimators:', best_model.best_estimator_.get_params()['n_estimators'])\n",
    "print('Best min_samples_leaf:', best_model.best_estimator_.get_params()['min_samples_leaf'])\n",
    "print('Best learning_rate:', best_model.best_estimator_.get_params()['learning_rate'])\n",
    "print('Best subsample:', best_model.best_estimator_.get_params()['subsample'])\n",
    "print('Best max_depth:', best_model.best_estimator_.get_params()['max_depth'])\n",
    "print('Best max_leaf_nodes:', best_model.best_estimator_.get_params()['max_leaf_nodes'])"
   ]
  },
  {
   "cell_type": "code",
   "execution_count": 93,
   "id": "47abb7b2",
   "metadata": {},
   "outputs": [
    {
     "name": "stdout",
     "output_type": "stream",
     "text": [
      "R-squared score for training set: 0.9925665547822695\n",
      "R-squared score for test set: 0.8731905580502276\n",
      "Mean Absolute Error for training set: 0.9649729617331747\n",
      "Mean Absolute Error for test set: 2.9851242240030107\n",
      "Mean Squared Error for training set: 1.7156479797592565\n",
      "Mean Squared Error for test set: 27.063150797138583\n"
     ]
    }
   ],
   "source": [
    "gbr1 = GradientBoostingRegressor(loss = 'squared_error', subsample=1.0, learning_rate=0.5 , n_estimators=100,\n",
    "                                  random_state=5, max_depth=9, max_leaf_nodes=25, min_samples_leaf=1)\n",
    "gbr1.fit(X_tr_scaled, y_train)\n",
    "\n",
    "#Predict using the model:\n",
    "\n",
    "y_pred_tr_gbr = gbr1.predict(X_tr_scaled)\n",
    "y_pred_te_gbr = gbr1.predict(X_te_scaled)\n",
    "\n",
    "print(\"R-squared score for training set:\", r2_score(y_train, y_pred_tr_gbr))\n",
    "print(\"R-squared score for test set:\", r2_score(y_test, y_pred_te_gbr))\n",
    "print(\"Mean Absolute Error for training set:\", mean_absolute_error(y_train, y_pred_tr_gbr))\n",
    "print(\"Mean Absolute Error for test set:\", mean_absolute_error(y_test, y_pred_te_gbr))\n",
    "print(\"Mean Squared Error for training set:\", mean_squared_error(y_train, y_pred_tr_gbr))\n",
    "print(\"Mean Squared Error for test set:\", mean_squared_error(y_test, y_pred_te_gbr))"
   ]
  },
  {
   "cell_type": "markdown",
   "id": "1b3e7c9a",
   "metadata": {},
   "source": [
    "# Gradient Boosting (Mean Absolute Error Loss)"
   ]
  },
  {
   "cell_type": "code",
   "execution_count": 96,
   "id": "98ae7bf3",
   "metadata": {},
   "outputs": [],
   "source": [
    "#Convert to dictionary\n",
    "\n",
    "loss = ['absolute_error']\n",
    "hyperparameters = dict(loss=loss, learning_rate=learning_rate, n_estimators=n_estimators,\n",
    "            subsample=subsample, min_samples_leaf=min_samples_leaf, max_depth=max_depth, max_leaf_nodes=max_leaf_nodes)\n",
    "\n",
    "gb3= GradientBoostingRegressor()\n",
    "\n",
    "#Use GridSearch\n",
    "clf = GridSearchCV(gb3, hyperparameters, cv=5)\n",
    "#Fit the model\n",
    "best_model = clf.fit(X_tr_scaled, y_train)"
   ]
  },
  {
   "cell_type": "code",
   "execution_count": 97,
   "id": "a26416bc",
   "metadata": {},
   "outputs": [
    {
     "name": "stdout",
     "output_type": "stream",
     "text": [
      "R-squared score for training set: 0.68303962441683\n",
      "R-squared score for test set: 0.6390524385182876\n",
      "Mean Absolute Error for training set: 4.693926662506229\n",
      "Mean Absolute Error for test set: 5.185809203849702\n",
      "Mean Squared Error for training set: 73.15483091688462\n",
      "Mean Squared Error for test set: 77.03194759037078\n"
     ]
    }
   ],
   "source": [
    "gbr2 = GradientBoostingRegressor(loss = 'absolute_error', subsample=1.0, learning_rate=0.5 , n_estimators=100,\n",
    "                                  random_state=5, max_depth=9, max_leaf_nodes=25, min_samples_leaf=1)\n",
    "gbr2.fit(X_tr_scaled, y_train)\n",
    "\n",
    "#Predict using the model:\n",
    "\n",
    "y_pred_tr_gbr2 = gbr2.predict(X_tr_scaled)\n",
    "y_pred_te_gbr2 = gbr2.predict(X_te_scaled)\n",
    "\n",
    "print(\"R-squared score for training set:\", r2_score(y_train, y_pred_tr_gbr2))\n",
    "print(\"R-squared score for test set:\", r2_score(y_test, y_pred_te_gbr2))\n",
    "print(\"Mean Absolute Error for training set:\", mean_absolute_error(y_train, y_pred_tr_gbr2))\n",
    "print(\"Mean Absolute Error for test set:\", mean_absolute_error(y_test, y_pred_te_gbr2))\n",
    "print(\"Mean Squared Error for training set:\", mean_squared_error(y_train, y_pred_tr_gbr2))\n",
    "print(\"Mean Squared Error for test set:\", mean_squared_error(y_test, y_pred_te_gbr2))"
   ]
  },
  {
   "cell_type": "markdown",
   "id": "e24c76e7",
   "metadata": {},
   "source": [
    "# Comparison of the models"
   ]
  },
  {
   "cell_type": "code",
   "execution_count": 98,
   "id": "f92c572f",
   "metadata": {},
   "outputs": [
    {
     "name": "stdout",
     "output_type": "stream",
     "text": [
      "            Algorithm  R2 Train   R2 Test\n",
      "0   Linear Regression  0.206128  0.213239\n",
      "1                 KNN  0.212014  0.158289\n",
      "2               E-SVR  0.204995  0.212726\n",
      "3          Linear SVR  0.205024  0.212829\n",
      "4   Random Forest-MSE  0.988711  0.900455\n",
      "5   Random Forest-MAE  0.986311  0.886431\n",
      "6  Gradient Boost-MSE  0.992567  0.873191\n",
      "7  Gradient Boost-MAE  0.683040  0.639052\n"
     ]
    }
   ],
   "source": [
    "myLabels = [ 'Linear Regression','KNN','E-SVR','Linear SVR', 'Random Forest-MSE','Random Forest-MAE', \n",
    "            'Gradient Boost-MSE', 'Gradient Boost-MAE']\n",
    "r2_train = [r2_score(y_train, y_tr_pred),r2_score(y_train, y_tr_predict_knn),\n",
    "           r2_score(y_train, y_pred_tr_svr),r2_score(y_train, y_pred_tr_lsvr),\n",
    "           r2_score(y_train, y_pred_tr_rf),r2_score(y_train, y_pred_tr_rf2),\n",
    "           r2_score(y_train, y_pred_tr_gbr),r2_score(y_train, y_pred_tr_gbr2)]\n",
    "\n",
    "r2_test = [r2_score(y_test, y_te_pred),r2_score(y_test, y_te_predict_knn),\n",
    "            r2_score(y_test, y_pred_te_svr),r2_score(y_test, y_pred_te_lsvr),\n",
    "            r2_score(y_test, y_pred_te_rf),r2_score(y_test, y_pred_te_rf2),\n",
    "            r2_score(y_test, y_pred_te_gbr),r2_score(y_test, y_pred_te_gbr2)]\n",
    "\n",
    "r2_tab = pd.DataFrame(list(zip(myLabels, r2_train, r2_test)),\n",
    "                     columns =['Algorithm', 'R2 Train', 'R2 Test'])\n",
    "\n",
    "print(r2_tab)"
   ]
  },
  {
   "cell_type": "markdown",
   "id": "3baa21a3",
   "metadata": {},
   "source": [
    "We see the Random Forest and Gradient Boost models are performing very well, some overperforming it seems in the training \n",
    "models. The Gradient Boost mean absolute error model seems to perform slightly worse.\n",
    "\n",
    "Random Forest Mean Absolute Error seems to have the best test results so lets go with that."
   ]
  },
  {
   "cell_type": "code",
   "execution_count": 99,
   "id": "6d77a756",
   "metadata": {},
   "outputs": [
    {
     "data": {
      "image/png": "[encoded data removed]",
      "text/plain": [
       "<Figure size 1152x360 with 1 Axes>"
      ]
     },
     "metadata": {
      "needs_background": "light"
     },
     "output_type": "display_data"
    }
   ],
   "source": [
    "index=[1,2,3,4,5,6,7,8]\n",
    "index_acc=[1.2,2.2,3.2,4.2,5.2,6.2,7.2,8.2]\n",
    "plt.figure(figsize=(16,5))\n",
    "plt.xlabel('Models',fontsize=15)\n",
    "plt.ylabel ('Model R-squared scores',fontsize=15)\n",
    "plt.title('Comparison of the algorithms',fontsize=15)\n",
    "#patterns = [ \"/\"]\n",
    "_=plt.bar(index,r2_train,color='coral',alpha=0.8,label='Train score',edgecolor='k',width=0.2)\n",
    "_=plt.bar(index_acc,r2_test,color='cyan',alpha=0.8,label='Test score',edgecolor='k',width=0.2)\n",
    "plt.xticks([1,2,3,4,5,6,7,8], myLabels)\n",
    "plt.legend()\n",
    "plt.savefig(\"comparison.png\")\n",
    "plt.show()\n"
   ]
  },
  {
   "cell_type": "markdown",
   "id": "766fad49",
   "metadata": {},
   "source": [
    "# Fitting with Random Forest Mean Absolute Error"
   ]
  },
  {
   "cell_type": "code",
   "execution_count": 113,
   "id": "520d70c7",
   "metadata": {},
   "outputs": [
    {
     "name": "stdout",
     "output_type": "stream",
     "text": [
      "         Features  Importance scores\n",
      "1        home_pct           0.359471\n",
      "2        away_pct           0.285940\n",
      "0           Total           0.235796\n",
      "11  Away Rebounds           0.012923\n",
      "13    Away Raptor           0.012372\n",
      "12   Away Minutes           0.011940\n",
      "5   Home Rebounds           0.011202\n",
      "7     Home Raptor           0.010878\n",
      "6    Home Minutes           0.009623\n",
      "10   Away Assists           0.009469\n",
      "4    Home Assists           0.009175\n",
      "9   Away Points.1           0.008433\n",
      "3   Home Points.1           0.007986\n",
      "14       Away WAR           0.007875\n",
      "8        Home WAR           0.006917\n"
     ]
    },
    {
     "data": {
      "image/png": "[encoded data removed]",
      "text/plain": [
       "<Figure size 720x360 with 1 Axes>"
      ]
     },
     "metadata": {
      "needs_background": "light"
     },
     "output_type": "display_data"
    }
   ],
   "source": [
    "#Feature importances:\n",
    "\n",
    "features = X\n",
    "importances = list(rf2.feature_importances_)\n",
    "#imp=np.sort(importances)\n",
    "tab=pd.DataFrame(list(zip(X,importances)),columns =['Features', 'Importance scores']).sort_values(by=['Importance scores'],\n",
    "                                                                                                 ascending=False)\n",
    "print(tab)\n",
    "\n",
    "#Visual comparison:\n",
    "plt.figure(figsize=(10,5))\n",
    "#indices = np.argsort(importances)\n",
    "index = [0,1,2,3,4,5,6,7,8,9,10,11,12,13,14]\n",
    "_=plt.barh(index,tab['Importance scores'], align='center',color='b')\n",
    "plt.xlabel('Relative Importance',fontsize=15)\n",
    "plt.ylabel('Features',fontsize=15)\n",
    "plt.yticks(index, tab['Features'])\n",
    "plt.title('Feature Importances for Random Forest classifier model',fontsize=15)\n",
    "plt.savefig(\"rf_features.png\")\n",
    "plt.show()\n",
    "#len(importances)"
   ]
  },
  {
   "cell_type": "markdown",
   "id": "d9ceb4a3",
   "metadata": {},
   "source": [
    "# Fitting with Gradient Boosting Mean Squared Error"
   ]
  },
  {
   "cell_type": "code",
   "execution_count": 112,
   "id": "a8c939ee",
   "metadata": {},
   "outputs": [
    {
     "name": "stdout",
     "output_type": "stream",
     "text": [
      "         Features  Importance scores\n",
      "1        home_pct           0.410578\n",
      "2        away_pct           0.359330\n",
      "0           Total           0.200859\n",
      "3   Home Points.1           0.004305\n",
      "12   Away Minutes           0.004071\n",
      "5   Home Rebounds           0.003831\n",
      "11  Away Rebounds           0.002846\n",
      "9   Away Points.1           0.002590\n",
      "10   Away Assists           0.002418\n",
      "7     Home Raptor           0.002272\n",
      "14       Away WAR           0.001944\n",
      "6    Home Minutes           0.001617\n",
      "13    Away Raptor           0.001593\n",
      "4    Home Assists           0.000952\n",
      "8        Home WAR           0.000795\n"
     ]
    },
    {
     "data": {
      "image/png": "[encoded data removed]",
      "text/plain": [
       "<Figure size 720x360 with 1 Axes>"
      ]
     },
     "metadata": {
      "needs_background": "light"
     },
     "output_type": "display_data"
    }
   ],
   "source": [
    "features = X\n",
    "importances = list(gbr1.feature_importances_)\n",
    "tab=pd.DataFrame(list(zip(X,importances)),columns =['Features', 'Importance scores']).sort_values(by=['Importance scores'],\n",
    "                                                                                                 ascending=False)\n",
    "print(tab)\n",
    "\n",
    "#visually:\n",
    "plt.figure(figsize=(10,5))\n",
    "#indices = np.argsort(importances)\n",
    "index = [0,1,2,3,4,5,6,7,8,9,10,11,12,13,14]\n",
    "_=plt.barh(index,tab['Importance scores'], align='center',color='gold',edgecolor='k')\n",
    "plt.xlabel('Relative Importance',fontsize=15)\n",
    "plt.ylabel('Features',fontsize=15)\n",
    "plt.yticks(index, tab['Features'])\n",
    "plt.title('Feature Importances for Gradient boost Classifier model',fontsize=15)\n",
    "plt.savefig(\"gb_features.png\")\n",
    "plt.show()\n",
    "#len(importances)"
   ]
  },
  {
   "cell_type": "markdown",
   "id": "42a42646",
   "metadata": {},
   "source": [
    "After reviewing the data it was decided to use a new method in EDA to fill the missing values. This helped stabilize the numbers more based on the individual player than the overall numbers.\n",
    "\n",
    "I also updated the parameters to speed up the process and clean up some of the numbers, including discovering the Gradient\n",
    "Boost Classifier for Mean Absolute Error was actually worse with the correct parameters set for cross validation.\n",
    "\n",
    "Finally, I discovered the features were labeled incorrectly for feature importance. As expected, the point total,\n",
    "home team winning percentage and away team winning percentage are the most important features when determining what games\n",
    "will have the closest point difference. From here we can present what we have found and suggest how to improve this model\n",
    "further for more testing in the future."
   ]
  }
 ],
 "metadata": {
  "kernelspec": {
   "display_name": "Python 3 (ipykernel)",
   "language": "python",
   "name": "python3"
  },
  "language_info": {
   "codemirror_mode": {
    "name": "ipython",
    "version": 3
   },
   "file_extension": ".py",
   "mimetype": "text/x-python",
   "name": "python",
   "nbconvert_exporter": "python",
   "pygments_lexer": "ipython3",
   "version": "3.9.12"
  }
 },
 "nbformat": 4,
 "nbformat_minor": 5
}
